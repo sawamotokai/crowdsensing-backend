{
 "cells": [
  {
   "cell_type": "code",
   "execution_count": 6,
   "metadata": {},
   "outputs": [],
   "source": [
    "import requests\n",
    "\n",
    "import random\n",
    "import matplotlib.pyplot as plt\n",
    "import math\n",
    "import argparse\n",
    "import time\n",
    "import json\n",
    "import datetime\n",
    "import dateutil\n",
    "from tqdm.notebook import tqdm\n",
    "\n",
    "nb = 49.27024149430249\n",
    "sb = 49.25752305948695\n",
    "wb = -123.25382384052033\n",
    "eb = -123.24365280903588\n",
    "x_step = 0.00015\n",
    "y_step = 0.00015\n",
    "\n",
    "def randomLocation():\n",
    "    lat = random.random() * (nb - sb) + sb\n",
    "    lng = random.random() * (eb - wb) + wb\n",
    "    return (lat, lng)\n"
   ]
  },
  {
   "cell_type": "code",
   "execution_count": 27,
   "metadata": {},
   "outputs": [],
   "source": [
    "class User:\n",
    "    def __init__(self):\n",
    "        self.lat, self.lng = randomLocation()\n",
    "        self.status = 'idle'\n",
    "        self.task = None\n",
    "        self.completed = 0\n",
    "        self.dismissed = 0\n",
    "        self.avgWalkingSpeed = 0\n",
    "        self.numWalks = 0\n",
    "        self.walkingSpeedSum = 0\n",
    "\n",
    "    def setTask(self, task):\n",
    "        assert self.task is None\n",
    "        self.task = task\n",
    "        self.task.increment()\n",
    "\n",
    "    def walk(self):\n",
    "        self.numWalks += 1\n",
    "        speed = 2.0*random.random()+1.0\n",
    "        self.walkingSpeedSum += speed\n",
    "        self.avgWalkingSpeed = self.walkingSpeedSum / self.numWalks\n",
    "        direction = 0\n",
    "        if self.status == 'busy':\n",
    "            dx = self.task.lng - self.lng\n",
    "            dy = self.task.lat - self.lat\n",
    "            direction = math.atan2(dy, dx)\n",
    "        else:\n",
    "            direction = random.random() * 2 * math.pi\n",
    "        \n",
    "        \n",
    "        dx = math.cos(direction) * speed * x_step\n",
    "        dy = math.sin(direction) * speed * y_step\n",
    "        nx = self.lng + dx\n",
    "        ny = self.lat + dy\n",
    "        if nx > eb or nx < wb:\n",
    "            nx -= dx * 2\n",
    "        if ny > nb or ny < sb:\n",
    "            ny -= dy * 2\n",
    "        self.lng = nx\n",
    "        self.lat = ny\n",
    "\n",
    "    def decideOnTask(self):\n",
    "        rand = random.random()\n",
    "        if rand > 0.3:\n",
    "            self.status = 'busy'\n",
    "        else:\n",
    "            self.finishTask(completed=False)\n",
    "\n",
    "    def isClose2Task(self):\n",
    "        if self.task is None:\n",
    "            return False\n",
    "        dist = (self.lat - self.task.lat) ** 2 + \\\n",
    "            (self.lng - self.task.lng) ** 2\n",
    "        return dist <= 4e-6\n",
    "\n",
    "    def finishTask(self, completed=True):\n",
    "        self.status = 'idle'\n",
    "        self.task.decrement()\n",
    "        self.task = None\n",
    "        if completed:\n",
    "            self.completed += 1\n",
    "        else:\n",
    "            self.dismissed += 1\n",
    "\n",
    "    def toRow(self):\n",
    "        \"\"\"\n",
    "        returns user matrices, where matrix = [lat, long, unknown, idle, waiting, busy, avg walking speed, completion ratio]\n",
    "        \"\"\"\n",
    "        arr = [0] * 8\n",
    "        arr[0] = self.lat\n",
    "        arr[1] = self.lng\n",
    "        status = self.status\n",
    "        if status == 'unknown': arr[2] = 1\n",
    "        if status == 'idle': arr[3] = 1\n",
    "        if status == 'waiting': arr[4] = 1\n",
    "        if status == 'busy': arr[5] = 1\n",
    "        arr[6] = self.avgWalkingSpeed\n",
    "        arr[7] = self.completed / (self.completed + self.dismissed)\n",
    "        return arr"
   ]
  },
  {
   "cell_type": "code",
   "execution_count": 28,
   "metadata": {},
   "outputs": [],
   "source": [
    "class Task:\n",
    "    def __init__(self):\n",
    "        self.lat, self.lng = randomLocation()\n",
    "        self.targetAoI = 10\n",
    "        self.numUsers = 0\n",
    "    \n",
    "    def decrement(self):\n",
    "        self.numUsers -= 1\n",
    "\n",
    "    def increment(self):\n",
    "        self.numUsers += 1\n",
    "    \n",
    "    def toRow(self):\n",
    "        \"\"\"\n",
    "        returns task matrices, matrix = [lat, long, targetAoI, num_users]\n",
    "        \"\"\"\n",
    "        arr = [0] * 4\n",
    "        arr[0] = self.lat\n",
    "        arr[1] = self.lng\n",
    "        arr[2] = self.targetAoI\n",
    "        arr[3] = self.numUsers\n",
    "        return arr\n",
    "\n",
    "    "
   ]
  },
  {
   "cell_type": "code",
   "execution_count": 29,
   "metadata": {},
   "outputs": [],
   "source": [
    "class Emulator:\n",
    "    def __init__(self, num_timeslots, num_users, num_tasks):\n",
    "        super().__init__()\n",
    "        self.num_timeslots = num_timeslots\n",
    "        self.users = []\n",
    "        self.tasks = []\n",
    "        self.userLocations = [[] for _ in range(num_users)]\n",
    "        for _ in range(num_users):\n",
    "            self.users.append(User())\n",
    "        for _ in range(num_tasks):\n",
    "            self.tasks.append(Task())\n",
    "\n",
    "    def getMatrixOf(self, arr):\n",
    "        matrix = []\n",
    "        for e in arr:\n",
    "            matrix.append(e.toRow())\n",
    "        return matrix\n",
    "\n",
    "    def assignRandomTask2Users(self):\n",
    "        for user in self.users:\n",
    "            if user.status == 'busy':\n",
    "                continue\n",
    "            randomTask = random.choice(self.tasks)\n",
    "            user.setTask(randomTask)\n",
    "            user.decideOnTask()\n",
    "    \n",
    "    def recordUserMoves(self, idx):\n",
    "        user = self.users[idx]\n",
    "        location = (user.lat, user.lng)\n",
    "        self.userLocations[idx].append(location)\n",
    "    \n",
    "    def run(self):\n",
    "        for cycle in tqdm(range(self.num_timeslots)):\n",
    "            self.assignRandomTask2Users()\n",
    "            for i in range(len(self.users)):\n",
    "                user = self.users[i]\n",
    "                user.walk()\n",
    "                self.recordUserMoves(i)\n",
    "                if user.isClose2Task():\n",
    "                    user.finishTask()\n"
   ]
  },
  {
   "cell_type": "code",
   "execution_count": 30,
   "metadata": {},
   "outputs": [
    {
     "output_type": "display_data",
     "data": {
      "text/plain": "HBox(children=(HTML(value=''), FloatProgress(value=0.0), HTML(value='')))",
      "application/vnd.jupyter.widget-view+json": {
       "version_major": 2,
       "version_minor": 0,
       "model_id": "647919c6e6f64fc19a659e4c28a4e78e"
      }
     },
     "metadata": {}
    },
    {
     "output_type": "stream",
     "name": "stdout",
     "text": [
      "\n"
     ]
    }
   ],
   "source": [
    "emulator = Emulator(num_timeslots=100, num_tasks=5, num_users=3)\n",
    "emulator.run()\n"
   ]
  },
  {
   "cell_type": "code",
   "execution_count": 31,
   "metadata": {},
   "outputs": [
    {
     "output_type": "execute_result",
     "data": {
      "text/plain": [
       "[[49.27018093894551, -123.2501070302122, 10, 1],\n",
       " [49.26107341435841, -123.25311234359505, 10, 0],\n",
       " [49.26584172243786, -123.24857693150405, 10, 1],\n",
       " [49.25894551633051, -123.24468930604647, 10, 0],\n",
       " [49.25972129730647, -123.24520043272604, 10, 1]]"
      ]
     },
     "metadata": {},
     "execution_count": 31
    }
   ],
   "source": [
    "emulator.getMatrixOf(emulator.tasks)"
   ]
  },
  {
   "cell_type": "code",
   "execution_count": null,
   "metadata": {},
   "outputs": [],
   "source": []
  }
 ],
 "metadata": {
  "kernelspec": {
   "name": "python3",
   "display_name": "Python 3.8.5 64-bit ('myenv': conda)"
  },
  "language_info": {
   "codemirror_mode": {
    "name": "ipython",
    "version": 3
   },
   "file_extension": ".py",
   "mimetype": "text/x-python",
   "name": "python",
   "nbconvert_exporter": "python",
   "pygments_lexer": "ipython3",
   "version": "3.8.5"
  },
  "interpreter": {
   "hash": "4d240efd6b302331078241517ae93f51db604fb47e0edbcd37a536ac963ed053"
  }
 },
 "nbformat": 4,
 "nbformat_minor": 4
}