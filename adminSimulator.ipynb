{
 "cells": [
  {
   "cell_type": "code",
   "execution_count": 1,
   "metadata": {},
   "outputs": [],
   "source": [
    "# !conda install -c conda-forge ipyleaflet --yes\n",
    "# !jupyter nbextension enable --py --sys-prefix ipyleaflet\n",
    "# !jupyter labextension install @jupyter-widgets/jupyterlab-manager\n",
    "# !jupyter labextension install jupyter-leaflet\n",
    "# from ipyleaflet import *\n",
    "\n",
    "import folium\n",
    "from folium import plugins\n",
    "\n",
    "import requests\n",
    "import random\n",
    "import matplotlib.pyplot as plt\n",
    "import math\n",
    "import time\n",
    "import json\n",
    "import datetime\n",
    "import dateutil.parser\n",
    "from tqdm.notebook import tqdm\n",
    "\n",
    "def send_request(url, data, method):\n",
    "    headers = {\"content-type\": \"application/json\"}\n",
    "    if method == 'PUT': res = requests.put(url, data=json.dumps(data), headers=headers)\n",
    "    if method == 'POST': res = requests.post(url, data=json.dumps(data), headers=headers)\n",
    "    return res\n",
    "\n",
    "def getUserTaskDistSq(user, task):\n",
    "#     print(user, task)\n",
    "    dist = (user[0] - task[0]) ** 2 + (user[1] - task[1]) ** 2\n",
    "    return dist\n",
    "\n",
    "def timeLimitExceeded(a):\n",
    "    assignedTime = dateutil.parser.isoparse(a['assignedTime'])\n",
    "    dt = datetime.datetime.now(datetime.timezone.utc)\n",
    "    now = dt.replace(tzinfo=datetime.timezone.utc)\n",
    "    if assignedTime + datetime.timedelta(minutes=a['timeLimit']) < now: return True\n",
    "    return False\n",
    "\n",
    "def users2matrix(users):\n",
    "    \"\"\"\n",
    "    returns user matrices, where matrix = [lat, long, unknown, idle, waiting, busy, avg walking speed, completion ratio, username]\n",
    "    \"\"\"\n",
    "    matrix = []\n",
    "    for user in users:\n",
    "        arr = [0] * 9\n",
    "        arr[0] = user['location']['lat']\n",
    "        arr[1] = user['location']['lng']\n",
    "        status = user['status']\n",
    "        if status == 'unknown': arr[2] = 1\n",
    "        if status == 'idle': arr[3] = 1\n",
    "        if status == 'waiting': arr[4] = 1\n",
    "        if status == 'busy': arr[5] = 1\n",
    "        arr[6] = user['avgWalkingSpeed']\n",
    "        assignments = user['assignment']\n",
    "        assignments.reverse() # latest aasignments first\n",
    "        assignments = assignments[:min(100, len(assignments))] # gets the first 100\n",
    "        ratio = 0\n",
    "        for assignment in assignments:\n",
    "            if assignment['isCompleted']: ratio += 1\n",
    "        if (len(assignments)): ratio /= len(assignments)\n",
    "        arr[7] = ratio\n",
    "        arr[8] = user['username']\n",
    "        matrix.append(arr)\n",
    "    return matrix\n",
    "\n",
    "\n",
    "def tasks2matrix(tasks):\n",
    "    \"\"\"\n",
    "    returns task matrices, matrix = [lat, long, targetAoI, num_user, _id]\n",
    "    \"\"\"\n",
    "    matrix = []\n",
    "    for task in tasks:\n",
    "        arr = [0] * 5\n",
    "        arr[0] = task['trashbin']['location']['lat']\n",
    "        arr[1] = task['trashbin']['location']['lng']\n",
    "        arr[2] = task['targetAoI']\n",
    "        num_users = 0\n",
    "        for a in task['assignment']:\n",
    "                if not a['isValid']: continue\n",
    "                if a['isCompleted']: continue\n",
    "                if timeLimitExceeded(a): continue\n",
    "                num_users += 1\n",
    "        arr[3] = num_users\n",
    "        arr[4] = task['_id']\n",
    "        matrix.append(arr)\n",
    "    return matrix\n"
   ]
  },
  {
   "cell_type": "code",
   "execution_count": 31,
   "metadata": {},
   "outputs": [],
   "source": [
    "\n",
    "BASE_URL = \"http://localhost:3000/api/v0\" # dev\n",
    "# BASE_URL = \"https://crowd-sensing.herokuapp.com/api/v0\" # test\n",
    "CLOCK = 5\n",
    "ASSIGN_EVERY_N_CYCLES = 3\n",
    "COLORS = ['blue', 'red', 'purple', 'darkpurple', 'darkblue', 'green']\n",
    "\n",
    "class Service:\n",
    "    def __init__(self, num_timeslots):\n",
    "        super().__init__()\n",
    "        self.num_timeslots = num_timeslots\n",
    "        self.userLocations = {}\n",
    "        \n",
    "    def getAllTasks(self):\n",
    "        url = f'{BASE_URL}/tasks/all'\n",
    "        res = requests.get(url)\n",
    "        users = res.json()['data']['tasks']\n",
    "        return users\n",
    "\n",
    "    def getAllUsers(self):\n",
    "        url = f'{BASE_URL}/users/all'\n",
    "        res = requests.get(url)\n",
    "        users = res.json()['data']['users']\n",
    "        return users\n",
    "    \n",
    "    def assignNearestTask(self, user, tasks):\n",
    "        nearestTask = None\n",
    "        minDist = 1e9\n",
    "        for task in tasks:\n",
    "            dist = getUserTaskDistSq(user, task)\n",
    "            if dist < minDist:\n",
    "                nearestTask = task\n",
    "                minDist = dist\n",
    "        \n",
    "        url = f'{BASE_URL}/tasks/assign'\n",
    "        data = {\n",
    "            \"username\": user[-1],\n",
    "            \"taskID\": nearestTask[-1],\n",
    "        }\n",
    "        send_request(url, data, 'POST')\n",
    "\n",
    "    def assignTasks(self, users, tasks):\n",
    "        for user in users:\n",
    "                self.assignNearestTask(user, tasks)\n",
    "                \n",
    "    def plotUsers(self):\n",
    "        mp = folium.Map(location=[49.26252990000112, -123.25006520184665], zoom_start=14)\n",
    "        for task in self.tasks:\n",
    "            folium.Marker(\n",
    "                location=[task['trashbin']['location']['lat'], task['trashbin']['location']['lng']], # coordinates for the marker (Earth Lab at CU Boulder)\n",
    "#                 popup=user['username'], # pop-up label for the marker\n",
    "                size=1,\n",
    "                width=1,\n",
    "                icon=folium.Icon(color='lightgray', icon='cube', prefix='fa')\n",
    "            ).add_to(mp)\n",
    "        for k, v in self.userLocations.items():\n",
    "            folium.PolyLine(v, color=random.choice(COLORS), weight=2.5, opacity=1).add_to(mp)\n",
    "        display(mp)\n",
    "    \n",
    "    def recordUserMoves(self):\n",
    "        for user in self.users:\n",
    "            _id = user['_id']\n",
    "            location = (user['location']['lat'], user['location']['lng'])\n",
    "            if _id in self.userLocations:\n",
    "                self.userLocations[_id].append(location)\n",
    "            else:\n",
    "                self.userLocations[_id] = [location]\n",
    "    \n",
    "    def run(self):\n",
    "        for cycle in tqdm(range(self.num_timeslots)):\n",
    "            self.users = self.getAllUsers()\n",
    "            self.tasks = self.getAllTasks()\n",
    "            \n",
    "            userMatrix = users2matrix(self.users)\n",
    "            self.recordUserMoves()\n",
    "            \n",
    "#             if cycle % ASSIGN_EVERY_N_CYCLES == 0:\n",
    "# taskMatrix = tasks2matrix(self.tasks)\n",
    "#             self.tasks = self.getAllTasks()\n",
    "#             self.assignTasks(userMatrix, taskMatrix)\n",
    "            time.sleep(CLOCK)\n",
    "        self.plotUsers()\n",
    "            "
   ]
  },
  {
   "cell_type": "code",
   "execution_count": 32,
   "metadata": {
    "scrolled": false
   },
   "outputs": [
    {
     "data": {
      "application/vnd.jupyter.widget-view+json": {
       "model_id": "ac28ff9d613b480ebab02263123229c3",
       "version_major": 2,
       "version_minor": 0
      },
      "text/plain": [
       "HBox(children=(HTML(value=''), FloatProgress(value=0.0, max=10.0), HTML(value='')))"
      ]
     },
     "metadata": {},
     "output_type": "display_data"
    },
    {
     "name": "stdout",
     "output_type": "stream",
     "text": [
      "\n"
     ]
    },
    {
     "data": {
      "text/html": [
       "<div style=\"width:100%;\"><div style=\"position:relative;width:100%;height:0;padding-bottom:60%;\"><span style=\"color:#565656\">Make this Notebook Trusted to load map: File -> Trust Notebook</span><iframe src=\"about:blank\" style=\"position:absolute;width:100%;height:100%;left:0;top:0;border:none !important;\" data-html=%3C%21DOCTYPE%20html%3E%0A%3Chead%3E%20%20%20%20%0A%20%20%20%20%3Cmeta%20http-equiv%3D%22content-type%22%20content%3D%22text/html%3B%20charset%3DUTF-8%22%20/%3E%0A%20%20%20%20%0A%20%20%20%20%20%20%20%20%3Cscript%3E%0A%20%20%20%20%20%20%20%20%20%20%20%20L_NO_TOUCH%20%3D%20false%3B%0A%20%20%20%20%20%20%20%20%20%20%20%20L_DISABLE_3D%20%3D%20false%3B%0A%20%20%20%20%20%20%20%20%3C/script%3E%0A%20%20%20%20%0A%20%20%20%20%3Cstyle%3Ehtml%2C%20body%20%7Bwidth%3A%20100%25%3Bheight%3A%20100%25%3Bmargin%3A%200%3Bpadding%3A%200%3B%7D%3C/style%3E%0A%20%20%20%20%3Cstyle%3E%23map%20%7Bposition%3Aabsolute%3Btop%3A0%3Bbottom%3A0%3Bright%3A0%3Bleft%3A0%3B%7D%3C/style%3E%0A%20%20%20%20%3Cscript%20src%3D%22https%3A//cdn.jsdelivr.net/npm/leaflet%401.6.0/dist/leaflet.js%22%3E%3C/script%3E%0A%20%20%20%20%3Cscript%20src%3D%22https%3A//code.jquery.com/jquery-1.12.4.min.js%22%3E%3C/script%3E%0A%20%20%20%20%3Cscript%20src%3D%22https%3A//maxcdn.bootstrapcdn.com/bootstrap/3.2.0/js/bootstrap.min.js%22%3E%3C/script%3E%0A%20%20%20%20%3Cscript%20src%3D%22https%3A//cdnjs.cloudflare.com/ajax/libs/Leaflet.awesome-markers/2.0.2/leaflet.awesome-markers.js%22%3E%3C/script%3E%0A%20%20%20%20%3Clink%20rel%3D%22stylesheet%22%20href%3D%22https%3A//cdn.jsdelivr.net/npm/leaflet%401.6.0/dist/leaflet.css%22/%3E%0A%20%20%20%20%3Clink%20rel%3D%22stylesheet%22%20href%3D%22https%3A//maxcdn.bootstrapcdn.com/bootstrap/3.2.0/css/bootstrap.min.css%22/%3E%0A%20%20%20%20%3Clink%20rel%3D%22stylesheet%22%20href%3D%22https%3A//maxcdn.bootstrapcdn.com/bootstrap/3.2.0/css/bootstrap-theme.min.css%22/%3E%0A%20%20%20%20%3Clink%20rel%3D%22stylesheet%22%20href%3D%22https%3A//maxcdn.bootstrapcdn.com/font-awesome/4.6.3/css/font-awesome.min.css%22/%3E%0A%20%20%20%20%3Clink%20rel%3D%22stylesheet%22%20href%3D%22https%3A//cdnjs.cloudflare.com/ajax/libs/Leaflet.awesome-markers/2.0.2/leaflet.awesome-markers.css%22/%3E%0A%20%20%20%20%3Clink%20rel%3D%22stylesheet%22%20href%3D%22https%3A//cdn.jsdelivr.net/gh/python-visualization/folium/folium/templates/leaflet.awesome.rotate.min.css%22/%3E%0A%20%20%20%20%0A%20%20%20%20%20%20%20%20%20%20%20%20%3Cmeta%20name%3D%22viewport%22%20content%3D%22width%3Ddevice-width%2C%0A%20%20%20%20%20%20%20%20%20%20%20%20%20%20%20%20initial-scale%3D1.0%2C%20maximum-scale%3D1.0%2C%20user-scalable%3Dno%22%20/%3E%0A%20%20%20%20%20%20%20%20%20%20%20%20%3Cstyle%3E%0A%20%20%20%20%20%20%20%20%20%20%20%20%20%20%20%20%23map_8037a032b325431cbeea5a7351a12b9c%20%7B%0A%20%20%20%20%20%20%20%20%20%20%20%20%20%20%20%20%20%20%20%20position%3A%20relative%3B%0A%20%20%20%20%20%20%20%20%20%20%20%20%20%20%20%20%20%20%20%20width%3A%20100.0%25%3B%0A%20%20%20%20%20%20%20%20%20%20%20%20%20%20%20%20%20%20%20%20height%3A%20100.0%25%3B%0A%20%20%20%20%20%20%20%20%20%20%20%20%20%20%20%20%20%20%20%20left%3A%200.0%25%3B%0A%20%20%20%20%20%20%20%20%20%20%20%20%20%20%20%20%20%20%20%20top%3A%200.0%25%3B%0A%20%20%20%20%20%20%20%20%20%20%20%20%20%20%20%20%7D%0A%20%20%20%20%20%20%20%20%20%20%20%20%3C/style%3E%0A%20%20%20%20%20%20%20%20%0A%3C/head%3E%0A%3Cbody%3E%20%20%20%20%0A%20%20%20%20%0A%20%20%20%20%20%20%20%20%20%20%20%20%3Cdiv%20class%3D%22folium-map%22%20id%3D%22map_8037a032b325431cbeea5a7351a12b9c%22%20%3E%3C/div%3E%0A%20%20%20%20%20%20%20%20%0A%3C/body%3E%0A%3Cscript%3E%20%20%20%20%0A%20%20%20%20%0A%20%20%20%20%20%20%20%20%20%20%20%20var%20map_8037a032b325431cbeea5a7351a12b9c%20%3D%20L.map%28%0A%20%20%20%20%20%20%20%20%20%20%20%20%20%20%20%20%22map_8037a032b325431cbeea5a7351a12b9c%22%2C%0A%20%20%20%20%20%20%20%20%20%20%20%20%20%20%20%20%7B%0A%20%20%20%20%20%20%20%20%20%20%20%20%20%20%20%20%20%20%20%20center%3A%20%5B49.26252990000112%2C%20-123.25006520184665%5D%2C%0A%20%20%20%20%20%20%20%20%20%20%20%20%20%20%20%20%20%20%20%20crs%3A%20L.CRS.EPSG3857%2C%0A%20%20%20%20%20%20%20%20%20%20%20%20%20%20%20%20%20%20%20%20zoom%3A%2014%2C%0A%20%20%20%20%20%20%20%20%20%20%20%20%20%20%20%20%20%20%20%20zoomControl%3A%20true%2C%0A%20%20%20%20%20%20%20%20%20%20%20%20%20%20%20%20%20%20%20%20preferCanvas%3A%20false%2C%0A%20%20%20%20%20%20%20%20%20%20%20%20%20%20%20%20%7D%0A%20%20%20%20%20%20%20%20%20%20%20%20%29%3B%0A%0A%20%20%20%20%20%20%20%20%20%20%20%20%0A%0A%20%20%20%20%20%20%20%20%0A%20%20%20%20%0A%20%20%20%20%20%20%20%20%20%20%20%20var%20tile_layer_482c19bfc1a94a2797efb73c06723862%20%3D%20L.tileLayer%28%0A%20%20%20%20%20%20%20%20%20%20%20%20%20%20%20%20%22https%3A//%7Bs%7D.tile.openstreetmap.org/%7Bz%7D/%7Bx%7D/%7By%7D.png%22%2C%0A%20%20%20%20%20%20%20%20%20%20%20%20%20%20%20%20%7B%22attribution%22%3A%20%22Data%20by%20%5Cu0026copy%3B%20%5Cu003ca%20href%3D%5C%22http%3A//openstreetmap.org%5C%22%5Cu003eOpenStreetMap%5Cu003c/a%5Cu003e%2C%20under%20%5Cu003ca%20href%3D%5C%22http%3A//www.openstreetmap.org/copyright%5C%22%5Cu003eODbL%5Cu003c/a%5Cu003e.%22%2C%20%22detectRetina%22%3A%20false%2C%20%22maxNativeZoom%22%3A%2018%2C%20%22maxZoom%22%3A%2018%2C%20%22minZoom%22%3A%200%2C%20%22noWrap%22%3A%20false%2C%20%22opacity%22%3A%201%2C%20%22subdomains%22%3A%20%22abc%22%2C%20%22tms%22%3A%20false%7D%0A%20%20%20%20%20%20%20%20%20%20%20%20%29.addTo%28map_8037a032b325431cbeea5a7351a12b9c%29%3B%0A%20%20%20%20%20%20%20%20%0A%20%20%20%20%0A%20%20%20%20%20%20%20%20%20%20%20%20var%20marker_6fae81ad6ffe4dd692127ebfd248549d%20%3D%20L.marker%28%0A%20%20%20%20%20%20%20%20%20%20%20%20%20%20%20%20%5B49.26232990000112%2C%20-123.255506520184%5D%2C%0A%20%20%20%20%20%20%20%20%20%20%20%20%20%20%20%20%7B%22size%22%3A%201%2C%20%22width%22%3A%201%7D%0A%20%20%20%20%20%20%20%20%20%20%20%20%29.addTo%28map_8037a032b325431cbeea5a7351a12b9c%29%3B%0A%20%20%20%20%20%20%20%20%0A%20%20%20%20%0A%20%20%20%20%20%20%20%20%20%20%20%20var%20icon_a5d8f480654844249c3ed30b9a5617bb%20%3D%20L.AwesomeMarkers.icon%28%0A%20%20%20%20%20%20%20%20%20%20%20%20%20%20%20%20%7B%22extraClasses%22%3A%20%22fa-rotate-0%22%2C%20%22icon%22%3A%20%22cube%22%2C%20%22iconColor%22%3A%20%22white%22%2C%20%22markerColor%22%3A%20%22lightgray%22%2C%20%22prefix%22%3A%20%22fa%22%7D%0A%20%20%20%20%20%20%20%20%20%20%20%20%29%3B%0A%20%20%20%20%20%20%20%20%20%20%20%20marker_6fae81ad6ffe4dd692127ebfd248549d.setIcon%28icon_a5d8f480654844249c3ed30b9a5617bb%29%3B%0A%20%20%20%20%20%20%20%20%0A%20%20%20%20%0A%20%20%20%20%20%20%20%20%20%20%20%20var%20marker_6e683b6aa4b240b9abb2fa52d4d20163%20%3D%20L.marker%28%0A%20%20%20%20%20%20%20%20%20%20%20%20%20%20%20%20%5B49.26252990000112%2C%20-123.25006520184665%5D%2C%0A%20%20%20%20%20%20%20%20%20%20%20%20%20%20%20%20%7B%22size%22%3A%201%2C%20%22width%22%3A%201%7D%0A%20%20%20%20%20%20%20%20%20%20%20%20%29.addTo%28map_8037a032b325431cbeea5a7351a12b9c%29%3B%0A%20%20%20%20%20%20%20%20%0A%20%20%20%20%0A%20%20%20%20%20%20%20%20%20%20%20%20var%20icon_611f9d29b631477e88ad8db2097c17b7%20%3D%20L.AwesomeMarkers.icon%28%0A%20%20%20%20%20%20%20%20%20%20%20%20%20%20%20%20%7B%22extraClasses%22%3A%20%22fa-rotate-0%22%2C%20%22icon%22%3A%20%22cube%22%2C%20%22iconColor%22%3A%20%22white%22%2C%20%22markerColor%22%3A%20%22lightgray%22%2C%20%22prefix%22%3A%20%22fa%22%7D%0A%20%20%20%20%20%20%20%20%20%20%20%20%29%3B%0A%20%20%20%20%20%20%20%20%20%20%20%20marker_6e683b6aa4b240b9abb2fa52d4d20163.setIcon%28icon_611f9d29b631477e88ad8db2097c17b7%29%3B%0A%20%20%20%20%20%20%20%20%0A%20%20%20%20%0A%20%20%20%20%20%20%20%20%20%20%20%20var%20marker_c6803e1c9be24ff2833b7cf13a02f207%20%3D%20L.marker%28%0A%20%20%20%20%20%20%20%20%20%20%20%20%20%20%20%20%5B49.26052990000112%2C%20-123.25906520184665%5D%2C%0A%20%20%20%20%20%20%20%20%20%20%20%20%20%20%20%20%7B%22size%22%3A%201%2C%20%22width%22%3A%201%7D%0A%20%20%20%20%20%20%20%20%20%20%20%20%29.addTo%28map_8037a032b325431cbeea5a7351a12b9c%29%3B%0A%20%20%20%20%20%20%20%20%0A%20%20%20%20%0A%20%20%20%20%20%20%20%20%20%20%20%20var%20icon_8818e3e22f7f4b878d01aa991cc18171%20%3D%20L.AwesomeMarkers.icon%28%0A%20%20%20%20%20%20%20%20%20%20%20%20%20%20%20%20%7B%22extraClasses%22%3A%20%22fa-rotate-0%22%2C%20%22icon%22%3A%20%22cube%22%2C%20%22iconColor%22%3A%20%22white%22%2C%20%22markerColor%22%3A%20%22lightgray%22%2C%20%22prefix%22%3A%20%22fa%22%7D%0A%20%20%20%20%20%20%20%20%20%20%20%20%29%3B%0A%20%20%20%20%20%20%20%20%20%20%20%20marker_c6803e1c9be24ff2833b7cf13a02f207.setIcon%28icon_8818e3e22f7f4b878d01aa991cc18171%29%3B%0A%20%20%20%20%20%20%20%20%0A%20%20%20%20%0A%20%20%20%20%20%20%20%20%20%20%20%20var%20poly_line_01261e9b497b46e683c6d5d538b35914%20%3D%20L.polyline%28%0A%20%20%20%20%20%20%20%20%20%20%20%20%20%20%20%20%5B%5B49.26345051373867%2C%20-123.24768814635169%5D%2C%20%5B49.263252367343014%2C%20-123.24745673721583%5D%2C%20%5B49.263151084091405%2C%20-123.24733245795426%5D%2C%20%5B49.2628622939364%2C%20-123.2472799256159%5D%2C%20%5B49.26295052721027%2C%20-123.24689255870219%5D%2C%20%5B49.26288121891784%2C%20-123.24715609461396%5D%2C%20%5B49.26315151847444%2C%20-123.24707026873583%5D%2C%20%5B49.26270773608013%2C%20-123.24705873681202%5D%2C%20%5B49.26268883437059%2C%20-123.24740983274968%5D%2C%20%5B49.26235476445417%2C%20-123.2472380527425%5D%5D%2C%0A%20%20%20%20%20%20%20%20%20%20%20%20%20%20%20%20%7B%22bubblingMouseEvents%22%3A%20true%2C%20%22color%22%3A%20%22green%22%2C%20%22dashArray%22%3A%20null%2C%20%22dashOffset%22%3A%20null%2C%20%22fill%22%3A%20false%2C%20%22fillColor%22%3A%20%22green%22%2C%20%22fillOpacity%22%3A%200.2%2C%20%22fillRule%22%3A%20%22evenodd%22%2C%20%22lineCap%22%3A%20%22round%22%2C%20%22lineJoin%22%3A%20%22round%22%2C%20%22noClip%22%3A%20false%2C%20%22opacity%22%3A%201%2C%20%22smoothFactor%22%3A%201.0%2C%20%22stroke%22%3A%20true%2C%20%22weight%22%3A%202.5%7D%0A%20%20%20%20%20%20%20%20%20%20%20%20%29.addTo%28map_8037a032b325431cbeea5a7351a12b9c%29%3B%0A%20%20%20%20%20%20%20%20%0A%20%20%20%20%0A%20%20%20%20%20%20%20%20%20%20%20%20var%20poly_line_137f1a9a060e40e0b184072a88b99c8d%20%3D%20L.polyline%28%0A%20%20%20%20%20%20%20%20%20%20%20%20%20%20%20%20%5B%5B49.264010218598855%2C%20-123.25031747574145%5D%2C%20%5B49.264010218598855%2C%20-123.25031747574145%5D%2C%20%5B49.264010218598855%2C%20-123.25031747574145%5D%2C%20%5B49.264010218598855%2C%20-123.25031747574145%5D%2C%20%5B49.264010218598855%2C%20-123.25031747574145%5D%2C%20%5B49.264010218598855%2C%20-123.25031747574145%5D%2C%20%5B49.264010218598855%2C%20-123.25031747574145%5D%2C%20%5B49.264010218598855%2C%20-123.25031747574145%5D%2C%20%5B49.264010218598855%2C%20-123.25031747574145%5D%2C%20%5B49.264010218598855%2C%20-123.25031747574145%5D%5D%2C%0A%20%20%20%20%20%20%20%20%20%20%20%20%20%20%20%20%7B%22bubblingMouseEvents%22%3A%20true%2C%20%22color%22%3A%20%22darkpurple%22%2C%20%22dashArray%22%3A%20null%2C%20%22dashOffset%22%3A%20null%2C%20%22fill%22%3A%20false%2C%20%22fillColor%22%3A%20%22darkpurple%22%2C%20%22fillOpacity%22%3A%200.2%2C%20%22fillRule%22%3A%20%22evenodd%22%2C%20%22lineCap%22%3A%20%22round%22%2C%20%22lineJoin%22%3A%20%22round%22%2C%20%22noClip%22%3A%20false%2C%20%22opacity%22%3A%201%2C%20%22smoothFactor%22%3A%201.0%2C%20%22stroke%22%3A%20true%2C%20%22weight%22%3A%202.5%7D%0A%20%20%20%20%20%20%20%20%20%20%20%20%29.addTo%28map_8037a032b325431cbeea5a7351a12b9c%29%3B%0A%20%20%20%20%20%20%20%20%0A%20%20%20%20%0A%20%20%20%20%20%20%20%20%20%20%20%20var%20poly_line_80942dba2a814bfd86d3422c6adbd3ec%20%3D%20L.polyline%28%0A%20%20%20%20%20%20%20%20%20%20%20%20%20%20%20%20%5B%5B49.267554169211934%2C%20-123.2493467593223%5D%2C%20%5B49.267554169211934%2C%20-123.2493467593223%5D%2C%20%5B49.267196095530885%2C%20-123.24955659416125%5D%2C%20%5B49.267317974431116%2C%20-123.24997090825909%5D%2C%20%5B49.26725199091504%2C%20-123.25030426321007%5D%2C%20%5B49.26718474089797%2C%20-123.25049517934711%5D%2C%20%5B49.26733705914479%2C%20-123.25027390510938%5D%2C%20%5B49.267753931643604%2C%20-123.25010888690254%5D%2C%20%5B49.26736414607053%2C%20-123.24990032749449%5D%2C%20%5B49.26771640904897%2C%20-123.250165500309%5D%5D%2C%0A%20%20%20%20%20%20%20%20%20%20%20%20%20%20%20%20%7B%22bubblingMouseEvents%22%3A%20true%2C%20%22color%22%3A%20%22red%22%2C%20%22dashArray%22%3A%20null%2C%20%22dashOffset%22%3A%20null%2C%20%22fill%22%3A%20false%2C%20%22fillColor%22%3A%20%22red%22%2C%20%22fillOpacity%22%3A%200.2%2C%20%22fillRule%22%3A%20%22evenodd%22%2C%20%22lineCap%22%3A%20%22round%22%2C%20%22lineJoin%22%3A%20%22round%22%2C%20%22noClip%22%3A%20false%2C%20%22opacity%22%3A%201%2C%20%22smoothFactor%22%3A%201.0%2C%20%22stroke%22%3A%20true%2C%20%22weight%22%3A%202.5%7D%0A%20%20%20%20%20%20%20%20%20%20%20%20%29.addTo%28map_8037a032b325431cbeea5a7351a12b9c%29%3B%0A%20%20%20%20%20%20%20%20%0A%20%20%20%20%0A%20%20%20%20%20%20%20%20%20%20%20%20var%20poly_line_63545fa10a8549458dd9c1ec7fe83ffa%20%3D%20L.polyline%28%0A%20%20%20%20%20%20%20%20%20%20%20%20%20%20%20%20%5B%5B49.26285728829755%2C%20-123.25043309251699%5D%2C%20%5B49.26285728829755%2C%20-123.25043309251699%5D%2C%20%5B49.26285728829755%2C%20-123.25043309251699%5D%2C%20%5B49.26285728829755%2C%20-123.25043309251699%5D%2C%20%5B49.26285728829755%2C%20-123.25043309251699%5D%2C%20%5B49.26285728829755%2C%20-123.25043309251699%5D%2C%20%5B49.26285728829755%2C%20-123.25043309251699%5D%2C%20%5B49.26285728829755%2C%20-123.25043309251699%5D%2C%20%5B49.26285728829755%2C%20-123.25043309251699%5D%2C%20%5B49.26285728829755%2C%20-123.25043309251699%5D%5D%2C%0A%20%20%20%20%20%20%20%20%20%20%20%20%20%20%20%20%7B%22bubblingMouseEvents%22%3A%20true%2C%20%22color%22%3A%20%22purple%22%2C%20%22dashArray%22%3A%20null%2C%20%22dashOffset%22%3A%20null%2C%20%22fill%22%3A%20false%2C%20%22fillColor%22%3A%20%22purple%22%2C%20%22fillOpacity%22%3A%200.2%2C%20%22fillRule%22%3A%20%22evenodd%22%2C%20%22lineCap%22%3A%20%22round%22%2C%20%22lineJoin%22%3A%20%22round%22%2C%20%22noClip%22%3A%20false%2C%20%22opacity%22%3A%201%2C%20%22smoothFactor%22%3A%201.0%2C%20%22stroke%22%3A%20true%2C%20%22weight%22%3A%202.5%7D%0A%20%20%20%20%20%20%20%20%20%20%20%20%29.addTo%28map_8037a032b325431cbeea5a7351a12b9c%29%3B%0A%20%20%20%20%20%20%20%20%0A%20%20%20%20%0A%20%20%20%20%20%20%20%20%20%20%20%20var%20poly_line_f50c746f82214beebcc0476cfdf3c333%20%3D%20L.polyline%28%0A%20%20%20%20%20%20%20%20%20%20%20%20%20%20%20%20%5B%5B49.26232051452907%2C%20-123.25026208538095%5D%2C%20%5B49.26232051452907%2C%20-123.25026208538095%5D%2C%20%5B49.26232051452907%2C%20-123.25026208538095%5D%2C%20%5B49.26232051452907%2C%20-123.25026208538095%5D%2C%20%5B49.26232051452907%2C%20-123.25026208538095%5D%2C%20%5B49.26232051452907%2C%20-123.25026208538095%5D%2C%20%5B49.26232051452907%2C%20-123.25026208538095%5D%2C%20%5B49.26232051452907%2C%20-123.25026208538095%5D%2C%20%5B49.26232051452907%2C%20-123.25026208538095%5D%2C%20%5B49.26232051452907%2C%20-123.25026208538095%5D%5D%2C%0A%20%20%20%20%20%20%20%20%20%20%20%20%20%20%20%20%7B%22bubblingMouseEvents%22%3A%20true%2C%20%22color%22%3A%20%22blue%22%2C%20%22dashArray%22%3A%20null%2C%20%22dashOffset%22%3A%20null%2C%20%22fill%22%3A%20false%2C%20%22fillColor%22%3A%20%22blue%22%2C%20%22fillOpacity%22%3A%200.2%2C%20%22fillRule%22%3A%20%22evenodd%22%2C%20%22lineCap%22%3A%20%22round%22%2C%20%22lineJoin%22%3A%20%22round%22%2C%20%22noClip%22%3A%20false%2C%20%22opacity%22%3A%201%2C%20%22smoothFactor%22%3A%201.0%2C%20%22stroke%22%3A%20true%2C%20%22weight%22%3A%202.5%7D%0A%20%20%20%20%20%20%20%20%20%20%20%20%29.addTo%28map_8037a032b325431cbeea5a7351a12b9c%29%3B%0A%20%20%20%20%20%20%20%20%0A%20%20%20%20%0A%20%20%20%20%20%20%20%20%20%20%20%20var%20poly_line_155f7ec927a04caa9f4dfc13550042c2%20%3D%20L.polyline%28%0A%20%20%20%20%20%20%20%20%20%20%20%20%20%20%20%20%5B%5B49.26341398520713%2C%20-123.25134412598484%5D%2C%20%5B49.26341398520713%2C%20-123.25134412598484%5D%2C%20%5B49.26341398520713%2C%20-123.25134412598484%5D%2C%20%5B49.26339111568088%2C%20-123.25096818224563%5D%2C%20%5B49.26380833606629%2C%20-123.25111606395838%5D%2C%20%5B49.26409693964452%2C%20-123.25103342184427%5D%2C%20%5B49.26437341911293%2C%20-123.25110878000827%5D%2C%20%5B49.264207800797024%2C%20-123.25088313367266%5D%2C%20%5B49.26403663023291%2C%20-123.2508527773171%5D%2C%20%5B49.26374296780776%2C%20-123.25076343383577%5D%5D%2C%0A%20%20%20%20%20%20%20%20%20%20%20%20%20%20%20%20%7B%22bubblingMouseEvents%22%3A%20true%2C%20%22color%22%3A%20%22red%22%2C%20%22dashArray%22%3A%20null%2C%20%22dashOffset%22%3A%20null%2C%20%22fill%22%3A%20false%2C%20%22fillColor%22%3A%20%22red%22%2C%20%22fillOpacity%22%3A%200.2%2C%20%22fillRule%22%3A%20%22evenodd%22%2C%20%22lineCap%22%3A%20%22round%22%2C%20%22lineJoin%22%3A%20%22round%22%2C%20%22noClip%22%3A%20false%2C%20%22opacity%22%3A%201%2C%20%22smoothFactor%22%3A%201.0%2C%20%22stroke%22%3A%20true%2C%20%22weight%22%3A%202.5%7D%0A%20%20%20%20%20%20%20%20%20%20%20%20%29.addTo%28map_8037a032b325431cbeea5a7351a12b9c%29%3B%0A%20%20%20%20%20%20%20%20%0A%20%20%20%20%0A%20%20%20%20%20%20%20%20%20%20%20%20var%20poly_line_1e5964bba1a14d6eba446cc8bb755013%20%3D%20L.polyline%28%0A%20%20%20%20%20%20%20%20%20%20%20%20%20%20%20%20%5B%5B49.262877946756404%2C%20-123.24984705284496%5D%2C%20%5B49.262877946756404%2C%20-123.24984705284496%5D%2C%20%5B49.262877946756404%2C%20-123.24984705284496%5D%2C%20%5B49.262877946756404%2C%20-123.24984705284496%5D%2C%20%5B49.262877946756404%2C%20-123.24984705284496%5D%2C%20%5B49.262877946756404%2C%20-123.24984705284496%5D%2C%20%5B49.262877946756404%2C%20-123.24984705284496%5D%2C%20%5B49.262877946756404%2C%20-123.24984705284496%5D%2C%20%5B49.262877946756404%2C%20-123.24984705284496%5D%2C%20%5B49.262877946756404%2C%20-123.24984705284496%5D%5D%2C%0A%20%20%20%20%20%20%20%20%20%20%20%20%20%20%20%20%7B%22bubblingMouseEvents%22%3A%20true%2C%20%22color%22%3A%20%22blue%22%2C%20%22dashArray%22%3A%20null%2C%20%22dashOffset%22%3A%20null%2C%20%22fill%22%3A%20false%2C%20%22fillColor%22%3A%20%22blue%22%2C%20%22fillOpacity%22%3A%200.2%2C%20%22fillRule%22%3A%20%22evenodd%22%2C%20%22lineCap%22%3A%20%22round%22%2C%20%22lineJoin%22%3A%20%22round%22%2C%20%22noClip%22%3A%20false%2C%20%22opacity%22%3A%201%2C%20%22smoothFactor%22%3A%201.0%2C%20%22stroke%22%3A%20true%2C%20%22weight%22%3A%202.5%7D%0A%20%20%20%20%20%20%20%20%20%20%20%20%29.addTo%28map_8037a032b325431cbeea5a7351a12b9c%29%3B%0A%20%20%20%20%20%20%20%20%0A%3C/script%3E onload=\"this.contentDocument.open();this.contentDocument.write(    decodeURIComponent(this.getAttribute('data-html')));this.contentDocument.close();\" allowfullscreen webkitallowfullscreen mozallowfullscreen></iframe></div></div>"
      ],
      "text/plain": [
       "<folium.folium.Map at 0x7fbaa3084b80>"
      ]
     },
     "metadata": {},
     "output_type": "display_data"
    }
   ],
   "source": [
    "service = Service(num_timeslots=10)\n",
    "service.run()\n"
   ]
  },
  {
   "cell_type": "code",
   "execution_count": 83,
   "metadata": {},
   "outputs": [
    {
     "data": {
      "application/vnd.jupyter.widget-view+json": {
       "model_id": "00b3e4beed5849fb953f9b65fcddc8ba",
       "version_major": 2,
       "version_minor": 0
      },
      "text/plain": [
       "Map(center=[49.26252990000112, -123.25006520184665], controls=(ZoomControl(options=['position', 'zoom_in_text'…"
      ]
     },
     "metadata": {},
     "output_type": "display_data"
    }
   ],
   "source": [
    "ubcMap = Map(\n",
    "                center=[49.26252990000112, -123.25006520184665],\n",
    "                zoom=14\n",
    "            )\n",
    "ubcMap"
   ]
  },
  {
   "cell_type": "code",
   "execution_count": 17,
   "metadata": {},
   "outputs": [
    {
     "name": "stdout",
     "output_type": "stream",
     "text": [
      "darkred\n",
      "orange\n",
      "darkblue\n",
      "gray\n",
      "darkred\n"
     ]
    }
   ],
   "source": [
    "for _ in range(5):\n",
    "    print(random.choice(COLORS))"
   ]
  },
  {
   "cell_type": "code",
   "execution_count": null,
   "metadata": {},
   "outputs": [],
   "source": []
  }
 ],
 "metadata": {
  "kernelspec": {
   "display_name": "Python 3",
   "language": "python",
   "name": "python3"
  },
  "language_info": {
   "codemirror_mode": {
    "name": "ipython",
    "version": 3
   },
   "file_extension": ".py",
   "mimetype": "text/x-python",
   "name": "python",
   "nbconvert_exporter": "python",
   "pygments_lexer": "ipython3",
   "version": "3.8.5"
  }
 },
 "nbformat": 4,
 "nbformat_minor": 4
}
